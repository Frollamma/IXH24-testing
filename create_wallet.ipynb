{
 "cells": [
  {
   "cell_type": "code",
   "execution_count": 26,
   "id": "98c6a46d",
   "metadata": {},
   "outputs": [
    {
     "name": "stdout",
     "output_type": "stream",
     "text": [
      "Attempting to fund address rLdLLfAsugiWhbPyU2PqSu4j3AzPLSWPmk\n",
      "Faucet fund successful.\n",
      "Attempting to fund address r3yr2KuZwN71ZWZYpHhSACx8sSvt9QtUdy\n",
      "Faucet fund successful.\n",
      "Balances of wallets before Payment tx\n",
      "100000000\n",
      "100000000\n",
      "Transaction was submitted\n",
      "Validated: True\n",
      "Balances of wallets after Payment tx:\n",
      "99998990\n",
      "100001000\n"
     ]
    }
   ],
   "source": [
    "from xrpl.account import get_balance\n",
    "from xrpl.clients import JsonRpcClient\n",
    "from xrpl.models import Payment, Tx\n",
    "from xrpl.transaction import submit_and_wait\n",
    "from xrpl.wallet import generate_faucet_wallet\n",
    "import nest_asyncio\n",
    "from xrpl.core import keypairs\n",
    "\n",
    "# Create a client to connect to the test network\n",
    "client = JsonRpcClient(\"https://s.altnet.rippletest.net:51234\")\n",
    "nest_asyncio.apply()\n",
    "# Create two wallets to send money between on the test network\n",
    "wallet1 = generate_faucet_wallet(client, debug=True)\n",
    "wallet2 = generate_faucet_wallet(client, debug=True)\n",
    "#seed = keypairs.generate_seed()\n",
    "#print(seed)\n",
    "#wallet2 = xrpl.wallet.Wallet.from_seed(seed)\n",
    "#print(wallet2)\n",
    "\n",
    "# Both balances should be zero since nothing has been sent yet\n",
    "print(\"Balances of wallets before Payment tx\")\n",
    "print(get_balance(wallet1.address, client))\n",
    "print(get_balance(wallet2.address, client))\n",
    "\n",
    "# Create a Payment transaction from wallet1 to wallet2\n",
    "payment_tx = Payment(\n",
    "    account=wallet1.address,\n",
    "    amount=\"1000\",\n",
    "    destination=wallet2.address,\n",
    ")\n",
    "\n",
    "# Submit the payment to the network and wait to see a response\n",
    "#   Behind the scenes, this fills in fields which can be looked up automatically like the fee.\n",
    "#   It also signs the transaction with wallet1 to prove you own the account you're paying from.\n",
    "payment_response = submit_and_wait(payment_tx, client, wallet1)\n",
    "print(\"Transaction was submitted\")\n",
    "\n",
    "# Create a \"Tx\" request to look up the transaction on the ledger\n",
    "tx_response = client.request(Tx(transaction=payment_response.result[\"hash\"]))\n",
    "\n",
    "# Check whether the transaction was actually validated on ledger\n",
    "print(\"Validated:\", tx_response.result[\"validated\"])\n",
    "\n",
    "# Check balances after 1000 drops (.001 XRP) was sent from wallet1 to wallet2\n",
    "print(\"Balances of wallets after Payment tx:\")\n",
    "print(get_balance(wallet1.address, client))\n",
    "print(get_balance(wallet2.address, client))"
   ]
  },
  {
   "cell_type": "code",
   "execution_count": null,
   "id": "0a66e16a",
   "metadata": {},
   "outputs": [],
   "source": []
  }
 ],
 "metadata": {
  "kernelspec": {
   "display_name": "Python 3 (ipykernel)",
   "language": "python",
   "name": "python3"
  },
  "language_info": {
   "codemirror_mode": {
    "name": "ipython",
    "version": 3
   },
   "file_extension": ".py",
   "mimetype": "text/x-python",
   "name": "python",
   "nbconvert_exporter": "python",
   "pygments_lexer": "ipython3",
   "version": "3.11.5"
  }
 },
 "nbformat": 4,
 "nbformat_minor": 5
}
