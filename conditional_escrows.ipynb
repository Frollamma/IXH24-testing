{
 "cells": [
  {
   "cell_type": "markdown",
   "id": "721b2500",
   "metadata": {},
   "source": [
    "### Gestire escrow condizionali sulla blockchain XRP Ledger.\n",
    "Gli escrow condizionali permettono di bloccare fondi che possono essere rilasciati solo quando si soddisfano determinate condizioni, in questo caso definite da un fulfillment crittografico.\n",
    "\n",
    "- condition: è una \"promessa\" crittografica, rappresentata come un hash crittografico, che definisce i requisiti per sbloccare l'escrow. È un valore derivato matematicamente da un dato segreto (il fulfillment);\n",
    "\n",
    "- fulfillment: è la \"chiave\" crittografica necessaria per soddisfare la condizione e sbloccare l'escrow. È il segreto utilizzato per dimostrare che la condizione è stata rispettata. È il dato originale usato per generare la condizione e dev'essere fornito dal destinatario o dal completatore della transazione."
   ]
  },
  {
   "cell_type": "markdown",
   "id": "19efa23a",
   "metadata": {},
   "source": [
    "### Import"
   ]
  },
  {
   "cell_type": "code",
   "execution_count": 15,
   "id": "044d607a",
   "metadata": {},
   "outputs": [],
   "source": [
    "import xrpl\n",
    "from xrpl.clients import JsonRpcClient\n",
    "from xrpl.wallet import Wallet\n",
    "from datetime import datetime # per calcolare le date di scadenza\n",
    "from xrpl.models.transactions import EscrowCreate, EscrowFinish\n",
    "from os import urandom # per generare casualmente i dati della condizione crittografica\n",
    "from cryptoconditions import PreimageSha256\n",
    "import asyncio"
   ]
  },
  {
   "cell_type": "markdown",
   "id": "5198919b",
   "metadata": {},
   "source": [
    "### testnet_url"
   ]
  },
  {
   "cell_type": "code",
   "execution_count": 2,
   "id": "184008d8",
   "metadata": {},
   "outputs": [],
   "source": [
    "testnet_url = \"https://s.altnet.rippletest.net:51234\""
   ]
  },
  {
   "cell_type": "markdown",
   "id": "1da9f6cd",
   "metadata": {},
   "source": [
    "### Funzioni"
   ]
  },
  {
   "cell_type": "code",
   "execution_count": 4,
   "id": "159027d8",
   "metadata": {},
   "outputs": [],
   "source": [
    "# crea un array di byte casuali (32 bit)\n",
    "def generate_condition():\n",
    "    randy = urandom(32)\n",
    "    fulfillment = PreimageSha256(preimage=randy) # crea la condizione crittografica\n",
    "    \n",
    "    # restituisce la condizione in formato esadecimale che dev'essere inclusa nella transazione di escrow,\n",
    "    # nonchè il fulfillment per completare l'escrow\n",
    "    return (fulfillment.condition_binary.hex().upper(),\n",
    "            fulfillment.serialize_binary().hex().upper())"
   ]
  },
  {
   "cell_type": "code",
   "execution_count": 16,
   "id": "52ba3339",
   "metadata": {},
   "outputs": [],
   "source": [
    "# aggiunge un numero di secondi alla data corrente (si parte dal 1 gennaio 2000)\n",
    "# si fa per generare il timestamp Ripple\n",
    "def add_seconds(numOfSeconds):\n",
    "    new_date = datetime.now()\n",
    "    if new_date != '':\n",
    "        new_date = xrpl.utils.datetime_to_ripple_time(new_date)\n",
    "        new_date = new_date + int(numOfSeconds)\n",
    "    return new_date"
   ]
  },
  {
   "cell_type": "code",
   "execution_count": 28,
   "id": "2fed2630",
   "metadata": {},
   "outputs": [],
   "source": [
    "# creazione di un Escrow Condizionale\n",
    "def create_conditional_escrow(seed, amount, destination, cancel, condition):\n",
    "    wallet = Wallet.from_seed(seed)\n",
    "    client = JsonRpcClient(testnet_url)\n",
    "    cancel_date = add_seconds(cancel) # data di scadenza oltre la quale l'escrow può essere cancellato\n",
    "    #finish_date = cancel_date - 200 # data di completamento impostata 200 secondi prima della scadenza\n",
    "    \n",
    "    # creazione della transazione EscrowCreate\n",
    "    escrow_tx=xrpl.models.transactions.EscrowCreate(\n",
    "        account=wallet.address,\n",
    "        amount=amount,\n",
    "        destination=destination,\n",
    "        cancel_after=cancel_date,\n",
    "        condition=condition\n",
    "    )\n",
    "    \n",
    "    # invio della transazione: si attende che venga convalidata\n",
    "    try:\n",
    "        print(\"Invio della transazione EscrowCreate...\")\n",
    "        response = xrpl.transaction.submit_and_wait(escrow_tx, client, wallet)\n",
    "        print(\"Escrow creato con successo\")\n",
    "        reply = response.result\n",
    "    except xrpl.transaction.XRPLReliableSubmissionException as e:\n",
    "        #reply = f\"Submit failed: {e}\"\n",
    "        print(f\"Errore nella creazione dell'escrow: {e}\")\n",
    "        return None"
   ]
  },
  {
   "cell_type": "code",
   "execution_count": 29,
   "id": "a57a53c6",
   "metadata": {},
   "outputs": [],
   "source": [
    "# completamento dell'Escrow\n",
    "def finish_conditional_escrow(seed, owner, sequence, condition, fulfillment):\n",
    "    wallet = Wallet.from_seed(seed)\n",
    "    client = JsonRpcClient(testnet_url)\n",
    "    finish_tx = xrpl.models.transactions.EscrowFinish(\n",
    "        account=wallet.address,\n",
    "        owner=owner,\n",
    "        offer_sequence=int(sequence), # numero di sequenza della transazione EscrowCreate\n",
    "        condition=condition,\n",
    "        fulfillment=fulfillment\n",
    "    )\n",
    "\n",
    "    # sottomette la transazione e attende il risultato\n",
    "    reply=\"\"\n",
    "    try:\n",
    "        print(\"Invio della transazione EscrowFinish...\")\n",
    "        response = xrpl.transaction.submit_and_wait(finish_tx,client,wallet)\n",
    "        print(\"Escrow completato con successo!\")\n",
    "        reply = response.result\n",
    "    except xrpl.transaction.XRPLReliableSubmissionException as e:\n",
    "        #reply=f\"Submit failed: {e}\"\n",
    "        #return reply\n",
    "        print(f\"Errore nel completamento dell'escrow: {e}\")\n",
    "        return None"
   ]
  },
  {
   "cell_type": "markdown",
   "id": "cbddd9ad",
   "metadata": {},
   "source": [
    "### MAIN"
   ]
  },
  {
   "cell_type": "code",
   "execution_count": 30,
   "id": "97dcb6b2",
   "metadata": {},
   "outputs": [
    {
     "name": "stdout",
     "output_type": "stream",
     "text": [
      "\n",
      "--- Configurazione iniziale ---\n",
      "Seed wallet mittente: sn3nxiW7v8KXzPzAqzyHXbSSKNuN9\n",
      "Destinatario: rPEPPER7kfTD9w2To4CQk6UCfuHM9c6GDY\n",
      "Importo: 1000 drops\n",
      "Durata Escrow: 3600 secondi\n",
      "\n",
      "--- Generazione della condizione crittografica ---\n",
      "Condizione generata: A0258020D4DEB3D56CAFB373CEF3B1D9E1DA0645BE229A30193A42BCEC39C7B744548A30810120\n",
      "Fulfillment generato: A022802055EFF19F1422485DA4E827EC862B083BF692C112D910620991EB757D1968E8D7\n",
      "\n",
      "--- Creazione dell'escrow condizionale ---\n",
      "Invio della transazione EscrowCreate...\n"
     ]
    },
    {
     "ename": "RuntimeError",
     "evalue": "asyncio.run() cannot be called from a running event loop",
     "output_type": "error",
     "traceback": [
      "\u001b[1;31m---------------------------------------------------------------------------\u001b[0m",
      "\u001b[1;31mRuntimeError\u001b[0m                              Traceback (most recent call last)",
      "Cell \u001b[1;32mIn[30], line 53\u001b[0m\n\u001b[0;32m     50\u001b[0m         \u001b[38;5;28mprint\u001b[39m(\u001b[38;5;124m\"\u001b[39m\u001b[38;5;124mErrore nel completamento dell\u001b[39m\u001b[38;5;124m'\u001b[39m\u001b[38;5;124mescrow.\u001b[39m\u001b[38;5;124m\"\u001b[39m)\n\u001b[0;32m     52\u001b[0m \u001b[38;5;28;01mif\u001b[39;00m \u001b[38;5;18m__name__\u001b[39m \u001b[38;5;241m==\u001b[39m \u001b[38;5;124m\"\u001b[39m\u001b[38;5;124m__main__\u001b[39m\u001b[38;5;124m\"\u001b[39m:\n\u001b[1;32m---> 53\u001b[0m     main()\n",
      "Cell \u001b[1;32mIn[30], line 24\u001b[0m, in \u001b[0;36mmain\u001b[1;34m()\u001b[0m\n\u001b[0;32m     22\u001b[0m \u001b[38;5;66;03m# CREAZIONE ESCROW CONDIZIONALE\u001b[39;00m\n\u001b[0;32m     23\u001b[0m \u001b[38;5;28mprint\u001b[39m(\u001b[38;5;124m\"\u001b[39m\u001b[38;5;130;01m\\n\u001b[39;00m\u001b[38;5;124m--- Creazione dell\u001b[39m\u001b[38;5;124m'\u001b[39m\u001b[38;5;124mescrow condizionale ---\u001b[39m\u001b[38;5;124m\"\u001b[39m)\n\u001b[1;32m---> 24\u001b[0m escrow_response \u001b[38;5;241m=\u001b[39m create_conditional_escrow(seed, amount, destination, cancel_seconds, condition)\n\u001b[0;32m     25\u001b[0m \u001b[38;5;28mprint\u001b[39m(\u001b[38;5;124mf\u001b[39m\u001b[38;5;124m\"\u001b[39m\u001b[38;5;124mRisultato creazione escrow: \u001b[39m\u001b[38;5;132;01m{\u001b[39;00mescrow_response\u001b[38;5;132;01m}\u001b[39;00m\u001b[38;5;124m\"\u001b[39m)\n\u001b[0;32m     27\u001b[0m \u001b[38;5;66;03m# VERIFICA TRANSAZIONE ESCROW\u001b[39;00m\n",
      "Cell \u001b[1;32mIn[28], line 20\u001b[0m, in \u001b[0;36mcreate_conditional_escrow\u001b[1;34m(seed, amount, destination, cancel, condition)\u001b[0m\n\u001b[0;32m     18\u001b[0m \u001b[38;5;28;01mtry\u001b[39;00m:\n\u001b[0;32m     19\u001b[0m     \u001b[38;5;28mprint\u001b[39m(\u001b[38;5;124m\"\u001b[39m\u001b[38;5;124mInvio della transazione EscrowCreate...\u001b[39m\u001b[38;5;124m\"\u001b[39m)\n\u001b[1;32m---> 20\u001b[0m     response \u001b[38;5;241m=\u001b[39m xrpl\u001b[38;5;241m.\u001b[39mtransaction\u001b[38;5;241m.\u001b[39msubmit_and_wait(escrow_tx, client, wallet)\n\u001b[0;32m     21\u001b[0m     \u001b[38;5;28mprint\u001b[39m(\u001b[38;5;124m\"\u001b[39m\u001b[38;5;124mEscrow creato con successo\u001b[39m\u001b[38;5;124m\"\u001b[39m)\n\u001b[0;32m     22\u001b[0m     reply \u001b[38;5;241m=\u001b[39m response\u001b[38;5;241m.\u001b[39mresult\n",
      "File \u001b[1;32m~\\anaconda3\\Lib\\site-packages\\xrpl\\transaction\\reliable_submission.py:47\u001b[0m, in \u001b[0;36msubmit_and_wait\u001b[1;34m(transaction, client, wallet, check_fee, autofill, fail_hard)\u001b[0m\n\u001b[0;32m     13\u001b[0m \u001b[38;5;28;01mdef\u001b[39;00m \u001b[38;5;21msubmit_and_wait\u001b[39m(\n\u001b[0;32m     14\u001b[0m     transaction: Transaction,\n\u001b[0;32m     15\u001b[0m     client: SyncClient,\n\u001b[1;32m   (...)\u001b[0m\n\u001b[0;32m     20\u001b[0m     fail_hard: \u001b[38;5;28mbool\u001b[39m \u001b[38;5;241m=\u001b[39m \u001b[38;5;28;01mFalse\u001b[39;00m,\n\u001b[0;32m     21\u001b[0m ) \u001b[38;5;241m-\u001b[39m\u001b[38;5;241m>\u001b[39m Response:\n\u001b[0;32m     22\u001b[0m \u001b[38;5;250m    \u001b[39m\u001b[38;5;124;03m\"\"\"\u001b[39;00m\n\u001b[0;32m     23\u001b[0m \u001b[38;5;124;03m    Signs a transaction locally, without trusting external rippled nodes (only if\u001b[39;00m\n\u001b[0;32m     24\u001b[0m \u001b[38;5;124;03m    the input transaction is unsigned; otherwise, proceeds to the next steps), submits,\u001b[39;00m\n\u001b[1;32m   (...)\u001b[0m\n\u001b[0;32m     45\u001b[0m \u001b[38;5;124;03m        The response from the ledger.\u001b[39;00m\n\u001b[0;32m     46\u001b[0m \u001b[38;5;124;03m    \"\"\"\u001b[39;00m\n\u001b[1;32m---> 47\u001b[0m     \u001b[38;5;28;01mreturn\u001b[39;00m asyncio\u001b[38;5;241m.\u001b[39mrun(\n\u001b[0;32m     48\u001b[0m         async_submit_and_wait(\n\u001b[0;32m     49\u001b[0m             transaction,\n\u001b[0;32m     50\u001b[0m             client,\n\u001b[0;32m     51\u001b[0m             wallet,\n\u001b[0;32m     52\u001b[0m             check_fee\u001b[38;5;241m=\u001b[39mcheck_fee,\n\u001b[0;32m     53\u001b[0m             autofill\u001b[38;5;241m=\u001b[39mautofill,\n\u001b[0;32m     54\u001b[0m             fail_hard\u001b[38;5;241m=\u001b[39mfail_hard,\n\u001b[0;32m     55\u001b[0m         )\n\u001b[0;32m     56\u001b[0m     )\n",
      "File \u001b[1;32m~\\anaconda3\\Lib\\asyncio\\runners.py:186\u001b[0m, in \u001b[0;36mrun\u001b[1;34m(main, debug)\u001b[0m\n\u001b[0;32m    161\u001b[0m \u001b[38;5;250m\u001b[39m\u001b[38;5;124;03m\"\"\"Execute the coroutine and return the result.\u001b[39;00m\n\u001b[0;32m    162\u001b[0m \n\u001b[0;32m    163\u001b[0m \u001b[38;5;124;03mThis function runs the passed coroutine, taking care of\u001b[39;00m\n\u001b[1;32m   (...)\u001b[0m\n\u001b[0;32m    182\u001b[0m \u001b[38;5;124;03m    asyncio.run(main())\u001b[39;00m\n\u001b[0;32m    183\u001b[0m \u001b[38;5;124;03m\"\"\"\u001b[39;00m\n\u001b[0;32m    184\u001b[0m \u001b[38;5;28;01mif\u001b[39;00m events\u001b[38;5;241m.\u001b[39m_get_running_loop() \u001b[38;5;129;01mis\u001b[39;00m \u001b[38;5;129;01mnot\u001b[39;00m \u001b[38;5;28;01mNone\u001b[39;00m:\n\u001b[0;32m    185\u001b[0m     \u001b[38;5;66;03m# fail fast with short traceback\u001b[39;00m\n\u001b[1;32m--> 186\u001b[0m     \u001b[38;5;28;01mraise\u001b[39;00m \u001b[38;5;167;01mRuntimeError\u001b[39;00m(\n\u001b[0;32m    187\u001b[0m         \u001b[38;5;124m\"\u001b[39m\u001b[38;5;124masyncio.run() cannot be called from a running event loop\u001b[39m\u001b[38;5;124m\"\u001b[39m)\n\u001b[0;32m    189\u001b[0m \u001b[38;5;28;01mwith\u001b[39;00m Runner(debug\u001b[38;5;241m=\u001b[39mdebug) \u001b[38;5;28;01mas\u001b[39;00m runner:\n\u001b[0;32m    190\u001b[0m     \u001b[38;5;28;01mreturn\u001b[39;00m runner\u001b[38;5;241m.\u001b[39mrun(main)\n",
      "\u001b[1;31mRuntimeError\u001b[0m: asyncio.run() cannot be called from a running event loop"
     ]
    }
   ],
   "source": [
    "def main():\n",
    "    # CONFIGURAZIONE INIZIALE\n",
    "    print(\"\\n--- Configurazione iniziale ---\")\n",
    "    \n",
    "    # Inserisci le tue credenziali di test (seed del wallet sorgente)\n",
    "    seed = \"sn3nxiW7v8KXzPzAqzyHXbSSKNuN9\"\n",
    "    destination = \"rPEPPER7kfTD9w2To4CQk6UCfuHM9c6GDY\"\n",
    "    amount = \"1000\"  # Importo da bloccare (in drops: 1 XRP = 1,000,000 drops)\n",
    "    cancel_seconds = 3600  # Tempo di annullamento (1 ora)\n",
    "    \n",
    "    print(f\"Seed wallet mittente: {seed}\")\n",
    "    print(f\"Destinatario: {destination}\")\n",
    "    print(f\"Importo: {amount} drops\")\n",
    "    print(f\"Durata Escrow: {cancel_seconds} secondi\")\n",
    "\n",
    "    # GENERAZIONE CONDIZIONE E FULFILLMENT\n",
    "    print(\"\\n--- Generazione della condizione crittografica ---\")\n",
    "    condition, fulfillment = generate_condition()\n",
    "    print(f\"Condizione generata: {condition}\")\n",
    "    print(f\"Fulfillment generato: {fulfillment}\")\n",
    "\n",
    "    # CREAZIONE ESCROW CONDIZIONALE\n",
    "    print(\"\\n--- Creazione dell'escrow condizionale ---\")\n",
    "    escrow_response = create_conditional_escrow(seed, amount, destination, cancel_seconds, condition)\n",
    "    print(f\"Risultato creazione escrow: {escrow_response}\")\n",
    "\n",
    "    # VERIFICA TRANSAZIONE ESCROW\n",
    "    if isinstance(escrow_response, dict) and \"Sequence\" in escrow_response:\n",
    "        sequence = escrow_response[\"Sequence\"]\n",
    "        print(f\"Numero di sequenza dell'escrow: {sequence}\")\n",
    "    else:\n",
    "        print(\"Errore nella creazione dell'escrow. Terminazione.\")\n",
    "        return\n",
    "\n",
    "    # ATTESA SIMULATA (es. 10 secondi per test)\n",
    "    import time\n",
    "    print(\"\\n--- Attesa prima di completare l'escrow (simulazione)... ---\")\n",
    "    time.sleep(10)\n",
    "\n",
    "    # COMPLETAMENTO ESCROW\n",
    "    print(\"\\n--- Completamento dell'escrow condizionale ---\")\n",
    "    finish_response = finish_conditional_escrow(seed, wallet_from_seed(seed).address, sequence, condition, fulfillment)\n",
    "    print(f\"Risultato completamento escrow: {finish_response}\")\n",
    "\n",
    "    # RISULTATO FINALE\n",
    "    print(\"\\n--- Risultato finale ---\")\n",
    "    if isinstance(finish_response, dict) and \"engine_result\" in finish_response:\n",
    "        print(f\"Escrow completato con successo! Risultato: {finish_response['engine_result']}\")\n",
    "    else:\n",
    "        print(\"Errore nel completamento dell'escrow.\")\n",
    "\n",
    "if __name__ == \"__main__\":\n",
    "    main()"
   ]
  },
  {
   "cell_type": "code",
   "execution_count": null,
   "id": "d1ba4604",
   "metadata": {},
   "outputs": [],
   "source": []
  }
 ],
 "metadata": {
  "kernelspec": {
   "display_name": ".venv",
   "language": "python",
   "name": "python3"
  },
  "language_info": {
   "codemirror_mode": {
    "name": "ipython",
    "version": 3
   },
   "file_extension": ".py",
   "mimetype": "text/x-python",
   "name": "python",
   "nbconvert_exporter": "python",
   "pygments_lexer": "ipython3",
   "version": "3.11.7"
  }
 },
 "nbformat": 4,
 "nbformat_minor": 5
}
