{
 "cells": [
  {
   "cell_type": "markdown",
   "id": "721b2500",
   "metadata": {},
   "source": [
    "### Gestire escrow condizionali sulla blockchain XRP Ledger.\n",
    "Gli escrow condizionali permettono di bloccare fondi che possono essere rilasciati solo quando si soddisfano determinate condizioni, in questo caso definite da un fulfillment crittografico.\n",
    "\n",
    "- condition: è una \"promessa\" crittografica, rappresentata come un hash crittografico, che definisce i requisiti per sbloccare l'escrow. È un valore derivato matematicamente da un dato segreto (il fulfillment);\n",
    "\n",
    "- fulfillment: è la \"chiave\" crittografica necessaria per soddisfare la condizione e sbloccare l'escrow. È il segreto utilizzato per dimostrare che la condizione è stata rispettata. È il dato originale usato per generare la condizione e dev'essere fornito dal destinatario o dal completatore della transazione."
   ]
  },
  {
   "cell_type": "markdown",
   "id": "19efa23a",
   "metadata": {},
   "source": [
    "### Import"
   ]
  },
  {
   "cell_type": "code",
   "execution_count": 33,
   "id": "044d607a",
   "metadata": {},
   "outputs": [],
   "source": [
    "import xrpl\n",
    "from xrpl.clients import JsonRpcClient\n",
    "from xrpl.wallet import Wallet\n",
    "from datetime import datetime # per calcolare le date di scadenza\n",
    "from xrpl.models.transactions import EscrowCreate, EscrowFinish\n",
    "from os import urandom # per generare casualmente i dati della condizione crittografica\n",
    "from cryptoconditions import PreimageSha256\n",
    "from utils import get_wallet"
   ]
  },
  {
   "cell_type": "markdown",
   "id": "5198919b",
   "metadata": {},
   "source": [
    "### testnet_url"
   ]
  },
  {
   "cell_type": "code",
   "execution_count": 2,
   "id": "184008d8",
   "metadata": {},
   "outputs": [],
   "source": [
    "testnet_url = \"https://s.altnet.rippletest.net:51234\""
   ]
  },
  {
   "cell_type": "markdown",
   "id": "1da9f6cd",
   "metadata": {},
   "source": [
    "### Funzioni"
   ]
  },
  {
   "cell_type": "code",
   "execution_count": null,
   "id": "159027d8",
   "metadata": {},
   "outputs": [
    {
     "name": "stdout",
     "output_type": "stream",
     "text": [
      "('A0258020EC31E2F5E259E2F2DBDBD7680E7DE5482D6F88DF3807B4A326A68C358DB75615810120', 'A02280205B9CC83DF5E3A58D71D6D06B24FA7186FD195268B1C4360FFCE4567ADEDED3DE')\n",
      "('A0258020EC31E2F5E259E2F2DBDBD7680E7DE5482D6F88DF3807B4A326A68C358DB75615810120', 'A02280205B9CC83DF5E3A58D71D6D06B24FA7186FD195268B1C4360FFCE4567ADEDED3DE')\n"
     ]
    }
   ],
   "source": [
    "# crea un array di byte casuali (32 bit)\n",
    "def generate_condition(randy=None):\n",
    "    if randy is None:\n",
    "        randy = urandom(32)\n",
    "\n",
    "    fulfillment = PreimageSha256(preimage=randy)  # crea la condizione crittografica\n",
    "\n",
    "    # restituisce la condizione in formato esadecimale che dev'essere inclusa nella transazione di escrow,\n",
    "    # nonchè il fulfillment per completare l'escrow\n",
    "    return (fulfillment.condition_binary.hex().upper(), fulfillment.serialize_binary().hex().upper())\n",
    "\n",
    "# Praticamente volevo fare reverse engineering della funzione generate_condition(), che utilizza PreimageSha256, mi chiedevo la differenza tra usare PreimageSha256 e semplicemente SHA256. Io con SHA256 avrei considerato semplicemente come condition l'hash di rand e come fulfillment rand stesso, ma ho notato che non coincideva con quello che fa PreimageSha256. Se vai a vedere il codice di PreimageSha256 (in articolare la proprietà condition_binary e il metodo serialize_binary), la differenza principale è che sia per la condition che per il fullfillment viene fatta una \"serializzazione\", cioè ad un certo punto esce un dizionario e fondamentalmente poi questo dizionario viene encodatto a bytes ed è quello che ho fatto io, ho aggiunto i bytes necessari per la serializzazione che sono sempre fissi, poi il resto era quello che pensavo.\n",
    "from Crypto.Hash import SHA256\n",
    "\n",
    "\n",
    "def my_generate_condition(randy=None):\n",
    "    if randy is None:\n",
    "        randy = urandom(32)\n",
    "\n",
    "    h = SHA256.new()\n",
    "    h.update(randy)\n",
    "    condition = b\"\\xa0%\\x80 \" + h.digest() + b\"\\x81\\x01 \"\n",
    "    fulfillment = b'\\xa0\"\\x80 ' + randy\n",
    "\n",
    "    condition = condition.hex().upper()\n",
    "    fulfillment = fulfillment.hex().upper()\n",
    "\n",
    "    return (condition, fulfillment)\n",
    "\n",
    "\n",
    "# Compare the two methods\n",
    "randy = urandom(32)\n",
    "print(generate_condition(randy))\n",
    "print(my_generate_condition(randy))\n",
    "\n",
    "assert generate_condition(randy) == my_generate_condition(randy)"
   ]
  },
  {
   "cell_type": "code",
   "execution_count": 25,
   "id": "52ba3339",
   "metadata": {},
   "outputs": [],
   "source": [
    "# aggiunge un numero di secondi alla data corrente (si parte dal 1 gennaio 2000)\n",
    "# si fa per generare il timestamp Ripple\n",
    "def add_seconds(numOfSeconds):\n",
    "    new_date = datetime.now()\n",
    "    if new_date != '':\n",
    "        new_date = xrpl.utils.datetime_to_ripple_time(new_date)\n",
    "        new_date = new_date + int(numOfSeconds)\n",
    "    return new_date"
   ]
  },
  {
   "cell_type": "code",
   "execution_count": 26,
   "id": "2fed2630",
   "metadata": {},
   "outputs": [],
   "source": [
    "# creazione di un Escrow Condizionale\n",
    "def create_conditional_escrow(seed, amount, destination, cancel, condition):\n",
    "    wallet = Wallet.from_seed(seed)\n",
    "    client = JsonRpcClient(testnet_url)\n",
    "    cancel_date = add_seconds(cancel) # data di scadenza oltre la quale l'escrow può essere cancellato\n",
    "    #finish_date = cancel_date - 200 # data di completamento impostata 200 secondi prima della scadenza\n",
    "    \n",
    "    # creazione della transazione EscrowCreate\n",
    "    escrow_tx=xrpl.models.transactions.EscrowCreate(\n",
    "        account=wallet.address,\n",
    "        amount=amount,\n",
    "        destination=destination,\n",
    "        cancel_after=cancel_date,\n",
    "        condition=condition\n",
    "    )\n",
    "    \n",
    "    # invio della transazione: si attende che venga convalidata\n",
    "    try:\n",
    "        print(\"Invio della transazione EscrowCreate...\")\n",
    "        response = xrpl.transaction.submit_and_wait(escrow_tx, client, wallet)\n",
    "        print(\"Escrow creato con successo\")\n",
    "        reply = response.result\n",
    "    except xrpl.transaction.XRPLReliableSubmissionException as e:\n",
    "        #reply = f\"Submit failed: {e}\"\n",
    "        print(f\"Errore nella creazione dell'escrow: {e}\")\n",
    "        return None"
   ]
  },
  {
   "cell_type": "code",
   "execution_count": 29,
   "id": "a57a53c6",
   "metadata": {},
   "outputs": [],
   "source": [
    "# completamento dell'Escrow\n",
    "def finish_conditional_escrow(seed, owner, sequence, condition, fulfillment):\n",
    "    wallet = Wallet.from_seed(seed)\n",
    "    client = JsonRpcClient(testnet_url)\n",
    "    finish_tx = xrpl.models.transactions.EscrowFinish(\n",
    "        account=wallet.address,\n",
    "        owner=owner,\n",
    "        offer_sequence=int(sequence), # numero di sequenza della transazione EscrowCreate\n",
    "        condition=condition,\n",
    "        fulfillment=fulfillment\n",
    "    )\n",
    "\n",
    "    # sottomette la transazione e attende il risultato\n",
    "    reply=\"\"\n",
    "    try:\n",
    "        print(\"Invio della transazione EscrowFinish...\")\n",
    "        response = xrpl.transaction.submit_and_wait(finish_tx,client,wallet)\n",
    "        print(\"Escrow completato con successo!\")\n",
    "        reply = response.result\n",
    "    except xrpl.transaction.XRPLReliableSubmissionException as e:\n",
    "        #reply=f\"Submit failed: {e}\"\n",
    "        #return reply\n",
    "        print(f\"Errore nel completamento dell'escrow: {e}\")\n",
    "        return None"
   ]
  },
  {
   "cell_type": "markdown",
   "id": "cbddd9ad",
   "metadata": {},
   "source": [
    "### MAIN"
   ]
  },
  {
   "cell_type": "code",
   "execution_count": null,
   "id": "97dcb6b2",
   "metadata": {},
   "outputs": [
    {
     "name": "stdout",
     "output_type": "stream",
     "text": [
      "\n",
      "--- Configurazione iniziale ---\n",
      "Attempting to fund address r3RLeuhWaHTx6qW8ATSqgHwLqY9dsgU1PF\n",
      "Faucet fund successful.\n",
      "Generated wallet sender with seed:  sEdTrkjKCrtaDrpPo4jKAXjr7UFakKC\n",
      "Address:  r3RLeuhWaHTx6qW8ATSqgHwLqY9dsgU1PF\n",
      "Attempting to fund address rhcy4K75QT9oFBqe7i6JghegwNAFUdGJDU\n",
      "Faucet fund successful.\n",
      "Generated wallet 2 with seed:  sEdTv4H6nWpi6nL3CjZEELqfLEQ29qU\n",
      "Address:  rhcy4K75QT9oFBqe7i6JghegwNAFUdGJDU\n",
      "Seed wallet mittente: sEdTrkjKCrtaDrpPo4jKAXjr7UFakKC\n",
      "Destinatario: rhcy4K75QT9oFBqe7i6JghegwNAFUdGJDU\n",
      "Importo: 1000 drops\n",
      "Durata Escrow: 3600 secondi\n",
      "\n",
      "--- Generazione della condizione crittografica ---\n",
      "Condizione generata: A025802075C57C908095C4DF3D89A348DCE8D6DE20E77F5F66AE2DC0406E0A55CA2E0A45810120\n",
      "Fulfillment generato: A02280203E4AAC0EF9D5E60F000008DE84C41911ECF37AD37F3DF61C614C93E34B6AFFA8\n",
      "\n",
      "--- Creazione dell'escrow condizionale ---\n",
      "Invio della transazione EscrowCreate...\n",
      "Escrow creato con successo\n",
      "Risultato creazione escrow: None\n",
      "Errore nella creazione dell'escrow. Terminazione.\n"
     ]
    }
   ],
   "source": [
    "import nest_asyncio\n",
    "nest_asyncio.apply()\n",
    "\n",
    "def main():\n",
    "    # CONFIGURAZIONE INIZIALE\n",
    "    print(\"\\n--- Configurazione iniziale ---\")\n",
    "    \n",
    "    # Wallet sorgente\n",
    "    seed_sender = \"\"\n",
    "\n",
    "    wallet_sender = get_wallet(seed_sender)\n",
    "    seed_sender = wallet_sender.seed\n",
    "    print(\"Generated wallet sender with seed: \", seed_sender)\n",
    "    print(\"Address: \", wallet_sender.classic_address)\n",
    "\n",
    "    # Wallet ricevente\n",
    "    seed_receiver = \"\"\n",
    "\n",
    "    wallet_receiver = get_wallet(seed_receiver)\n",
    "    seed_receiver = wallet_receiver.seed\n",
    "    print(\"Generated wallet 2 with seed: \", seed_receiver)\n",
    "    print(\"Address: \", wallet_receiver.classic_address)\n",
    "\n",
    "    destination = wallet_receiver.address\n",
    "    amount = \"1000\"  # Importo da bloccare in drops (1 XRP = 1,000,000 drops)\n",
    "    cancel_seconds = 3600  # Tempo di annullamento (1 ora)\n",
    "    \n",
    "    print(f\"Seed wallet mittente: {seed_sender}\")\n",
    "    print(f\"Destinatario: {destination}\")\n",
    "    print(f\"Importo: {amount} drops\")\n",
    "    print(f\"Durata Escrow: {cancel_seconds} secondi\")\n",
    "\n",
    "    # GENERAZIONE CONDIZIONE E FULFILLMENT\n",
    "    print(\"\\n--- Generazione della condizione crittografica ---\")\n",
    "    condition, fulfillment = generate_condition()\n",
    "    print(f\"Condizione generata: {condition}\")\n",
    "    print(f\"Fulfillment generato: {fulfillment}\")\n",
    "\n",
    "    # CREAZIONE ESCROW CONDIZIONALE\n",
    "    print(\"\\n--- Creazione dell'escrow condizionale ---\")\n",
    "    escrow_response = create_conditional_escrow(seed_sender, amount, destination, cancel_seconds, condition)\n",
    "    print(f\"Risultato creazione escrow: {escrow_response}\")\n",
    "\n",
    "    # VERIFICA TRANSAZIONE ESCROW\n",
    "    if isinstance(escrow_response, dict) and \"Sequence\" in escrow_response:\n",
    "        sequence = escrow_response[\"Sequence\"]\n",
    "        print(f\"Numero di sequenza dell'escrow: {sequence}\")\n",
    "    else:\n",
    "        print(\"Errore nella creazione dell'escrow. Terminazione.\")\n",
    "        return\n",
    "\n",
    "    # ATTESA SIMULATA (es. 10 secondi per test)\n",
    "    import time\n",
    "    print(\"\\n--- Attesa prima di completare l'escrow (simulazione)... ---\")\n",
    "    time.sleep(10)\n",
    "\n",
    "    # COMPLETAMENTO ESCROW\n",
    "    print(\"\\n--- Completamento dell'escrow condizionale ---\")\n",
    "    finish_response = finish_conditional_escrow(seed_sender, wallet_sender.address, sequence, condition, fulfillment)\n",
    "    print(f\"Risultato completamento escrow: {finish_response}\")\n",
    "\n",
    "    # RISULTATO FINALE\n",
    "    print(\"\\n--- Risultato finale ---\")\n",
    "    if isinstance(finish_response, dict) and \"engine_result\" in finish_response:\n",
    "        print(f\"Escrow completato con successo! Risultato: {finish_response['engine_result']}\")\n",
    "    else:\n",
    "        print(\"Errore nel completamento dell'escrow.\")\n",
    "\n",
    "if __name__ == \"__main__\":\n",
    "    main()"
   ]
  },
  {
   "cell_type": "code",
   "execution_count": null,
   "id": "d1ba4604",
   "metadata": {},
   "outputs": [],
   "source": []
  }
 ],
 "metadata": {
  "kernelspec": {
   "display_name": ".venv",
   "language": "python",
   "name": "python3"
  },
  "language_info": {
   "codemirror_mode": {
    "name": "ipython",
    "version": 3
   },
   "file_extension": ".py",
   "mimetype": "text/x-python",
   "name": "python",
   "nbconvert_exporter": "python",
   "pygments_lexer": "ipython3",
   "version": "3.11.7"
  }
 },
 "nbformat": 4,
 "nbformat_minor": 5
}
