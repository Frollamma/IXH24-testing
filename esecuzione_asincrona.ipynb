{
 "cells": [
  {
   "cell_type": "markdown",
   "id": "429070d7",
   "metadata": {},
   "source": [
    "### Codice Asincrono\n",
    "Permette al programma di continuare a eseguire altre istruzioni mentre aspetta la risposta da operazioni lente come chiamate di rete.\n",
    "In pratica, il codice asincrono è utile per applicazioni che richiedono molte operazioni I/O (input/output), come comunicare con l'XRP Ledger."
   ]
  },
  {
   "cell_type": "code",
   "execution_count": 12,
   "id": "74abb294",
   "metadata": {},
   "outputs": [
    {
     "name": "stdout",
     "output_type": "stream",
     "text": [
      "Attempting to fund address rULBTRjRn7Gp5ZL3bNnDx6CG9NTAZHY24T\n",
      "Faucet fund successful.\n",
      "Risultato della transazione: Response(status=<ResponseStatus.SUCCESS: 'success'>, result={'close_time_iso': '2024-11-20T11:19:11Z', 'ctid': 'C02554E200020001', 'hash': '71CAC91D8A059ADA48F68D4B689E30BB8E9C166F67899A4A1F5A7E2A6696CFB3', 'ledger_hash': '1249DEABC17ED519EC8C0964C41A7B8935A3F1A5B79D667EE9CAF6148D1247C1', 'ledger_index': 2446562, 'meta': {'AffectedNodes': [{'ModifiedNode': {'FinalFields': {'Account': 'rPT1Sjq2YGrBMTttX4GZHjKu9dyfzbpAYe', 'Balance': '1797101985357042', 'Flags': 0, 'OwnerCount': 110, 'Sequence': 956127, 'TicketCount': 110}, 'LedgerEntryType': 'AccountRoot', 'LedgerIndex': '31CCE9D28412FF973E9AB6D0FA219BACF19687D9A2456A0C2ABC3280E9D47E37', 'PreviousFields': {'Balance': '1797101983157042'}, 'PreviousTxnID': 'F511E6B2533A5EA2C8F662E5DE48446838D18461DD1C99749254234DD7CDF52D', 'PreviousTxnLgrSeq': 2446560}}, {'ModifiedNode': {'FinalFields': {'Account': 'rULBTRjRn7Gp5ZL3bNnDx6CG9NTAZHY24T', 'Balance': '97799990', 'Flags': 0, 'OwnerCount': 0, 'Sequence': 2446560}, 'LedgerEntryType': 'AccountRoot', 'LedgerIndex': '7F36876635137F47D41BD7D9B207F5CB93E0910E74F192468EEBF145C65C5039', 'PreviousFields': {'Balance': '100000000', 'Sequence': 2446559}, 'PreviousTxnID': 'AAE744D53D718351EE5BDDAF34859BB8122D87AF1F71603F347C452EA898253D', 'PreviousTxnLgrSeq': 2446559}}], 'TransactionIndex': 2, 'TransactionResult': 'tesSUCCESS', 'delivered_amount': '2200000'}, 'tx_json': {'Account': 'rULBTRjRn7Gp5ZL3bNnDx6CG9NTAZHY24T', 'DeliverMax': '2200000', 'Destination': 'rPT1Sjq2YGrBMTttX4GZHjKu9dyfzbpAYe', 'Fee': '10', 'Flags': 0, 'LastLedgerSequence': 2446580, 'Sequence': 2446559, 'SigningPubKey': 'ED32C22D4183A12E9E4CBCB06CB4352DC5CB1E20BD696CBE3BA31384BFC43F2294', 'TransactionType': 'Payment', 'TxnSignature': 'C66B33587BC3A382A0083BC5BE023FEEC9DADD54AA91B964AB24AF8A1960552DE03D1E8988CD4D0C79787B0054EDD18D422329BD8C459AB6E7C46554D0D35C05', 'date': 785416751, 'ledger_index': 2446562}, 'validated': True}, id=None, type=<ResponseType.RESPONSE: 'response'>)\n"
     ]
    }
   ],
   "source": [
    "import asyncio\n",
    "import nest_asyncio\n",
    "from xrpl.wallet import generate_faucet_wallet\n",
    "from xrpl.models.transactions import Payment\n",
    "from xrpl.asyncio.transaction import sign, submit_and_wait\n",
    "from xrpl.asyncio.ledger import get_latest_validated_ledger_sequence\n",
    "from xrpl.asyncio.account import get_next_valid_seq_number\n",
    "from xrpl.asyncio.clients import AsyncJsonRpcClient\n",
    "\n",
    "# Applica nest_asyncio per riutilizzare il loop corrente (se in Jupyter)\n",
    "nest_asyncio.apply()\n",
    "\n",
    "# URL del nodo TESTNET\n",
    "JSON_RPC_URL = \"https://s.altnet.rippletest.net:51234\"\n",
    "async_client = AsyncJsonRpcClient(JSON_RPC_URL)\n",
    "\n",
    "# Funzione principale\n",
    "async def main():\n",
    "    # Creazione del wallet sulla testnet\n",
    "    wallet = generate_faucet_wallet(async_client, debug=True)\n",
    "\n",
    "    # Ottieni il numero dell'ultimo ledger validato\n",
    "    current_validated_ledger = await get_latest_validated_ledger_sequence(async_client)\n",
    "\n",
    "    # Prepara la transazione\n",
    "    my_tx_payment = Payment(\n",
    "        account=wallet.classic_address,  # Usa l'indirizzo del wallet creato\n",
    "        amount=\"2200000\",  # Importo in drops (2.2 XRP)\n",
    "        destination=\"rPT1Sjq2YGrBMTttX4GZHjKu9dyfzbpAYe\",  # Indirizzo destinatario\n",
    "        last_ledger_sequence=current_validated_ledger + 20,  # Tempo massimo per l'inclusione\n",
    "        sequence=await get_next_valid_seq_number(wallet.classic_address, async_client),  # Numero di sequenza\n",
    "        fee=\"10\",  # Fee minima\n",
    "    )\n",
    "\n",
    "    # Firma la transazione\n",
    "    signed_tx = sign(my_tx_payment, wallet)\n",
    "\n",
    "    # Invia e aspetta il risultato\n",
    "    tx_response = await submit_and_wait(signed_tx, async_client)\n",
    "\n",
    "    # Stampa la risposta\n",
    "    print(\"Risultato della transazione:\", tx_response)\n",
    "\n",
    "# Esegui la funzione principale\n",
    "await main()"
   ]
  },
  {
   "cell_type": "code",
   "execution_count": null,
   "id": "ff1dd16c",
   "metadata": {},
   "outputs": [],
   "source": []
  }
 ],
 "metadata": {
  "kernelspec": {
   "display_name": "Python 3 (ipykernel)",
   "language": "python",
   "name": "python3"
  },
  "language_info": {
   "codemirror_mode": {
    "name": "ipython",
    "version": 3
   },
   "file_extension": ".py",
   "mimetype": "text/x-python",
   "name": "python",
   "nbconvert_exporter": "python",
   "pygments_lexer": "ipython3",
   "version": "3.11.5"
  }
 },
 "nbformat": 4,
 "nbformat_minor": 5
}
