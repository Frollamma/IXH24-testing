{
 "cells": [
  {
   "cell_type": "code",
   "execution_count": 1,
   "id": "98c6a46d",
   "metadata": {},
   "outputs": [],
   "source": [
    "from xrpl.account import get_next_valid_seq_number, get_balance\n",
    "from xrpl.clients import JsonRpcClient\n",
    "from xrpl.models import Payment, Tx\n",
    "from xrpl.transaction import sign, submit_and_wait\n",
    "from xrpl.wallet import Wallet, generate_faucet_wallet\n",
    "from xrpl.ledger import get_latest_validated_ledger_sequence\n",
    "import nest_asyncio\n",
    "from utils import print_balances"
   ]
  },
  {
   "cell_type": "code",
   "execution_count": null,
   "id": "7572dbd1",
   "metadata": {},
   "outputs": [
    {
     "name": "stdout",
     "output_type": "stream",
     "text": [
      "Generated wallet 1 with seed:  sEdTo9HXziAK9AUQaxX8jd5Gfv1mqfm\n",
      "Address:  rwiXF251eraXVQgkyEMnja3egbp9uKPvTN\n",
      "Generated wallet 2 with seed:  sEdSPkYBWvGt5crKm8EmugCjtvRNYYM\n",
      "Address:  rGtgSL1C9RT5yZwvRZwszqsrFF3JHEUHQ7\n"
     ]
    }
   ],
   "source": [
    "# Create a client to connect to the test network\n",
    "client = JsonRpcClient(\"https://s.altnet.rippletest.net:51234\")\n",
    "nest_asyncio.apply()\n",
    "\n",
    "seed1 = \"sEdTo9HXziAK9AUQaxX8jd5Gfv1mqfm\"\n",
    "seed2 = \"sEdSPkYBWvGt5crKm8EmugCjtvRNYYM\"\n",
    "\n",
    "# Create two wallets to send money between on the test network\n",
    "if seed1:\n",
    "    wallet1 = Wallet.from_seed(seed1)\n",
    "else:\n",
    "    wallet1 = generate_faucet_wallet(client, debug=True)\n",
    "\n",
    "print(\"Generated wallet 1 with seed: \", wallet1.seed)\n",
    "print(\"Address: \", wallet1.classic_address)\n",
    "\n",
    "if seed2:\n",
    "    wallet2 = Wallet.from_seed(seed2)\n",
    "else:\n",
    "    wallet2 = generate_faucet_wallet(client, debug=True)\n",
    "\n",
    "print(\"Generated wallet 2 with seed: \", wallet2.seed)\n",
    "print(\"Address: \", wallet2.classic_address)"
   ]
  },
  {
   "cell_type": "code",
   "execution_count": 8,
   "id": "0a66e16a",
   "metadata": {},
   "outputs": [
    {
     "name": "stdout",
     "output_type": "stream",
     "text": [
      "Balances of wallets before Payment tx\n",
      "Balances:\n",
      "rwiXF251eraXVQgkyEMnja3egbp9uKPvTN: 100000000\n",
      "rGtgSL1C9RT5yZwvRZwszqsrFF3JHEUHQ7: 100000000\n",
      "Transaction was submitted\n",
      "Validated: True\n",
      "Balances of wallets after Payment tx:\n",
      "Balances:\n",
      "rwiXF251eraXVQgkyEMnja3egbp9uKPvTN: 99998000\n",
      "rGtgSL1C9RT5yZwvRZwszqsrFF3JHEUHQ7: 100001000\n"
     ]
    }
   ],
   "source": [
    "# Both balances should be zero since nothing has been sent yet\n",
    "print(\"Balances of wallets before Payment tx\")\n",
    "print_balances([wallet1, wallet2], client)\n",
    "\n",
    "# Create a Payment transaction from wallet1 to wallet2\n",
    "payment_tx = Payment(\n",
    "    account=wallet1.address,\n",
    "    amount=\"1000\",\n",
    "    destination=wallet2.address,\n",
    "    fee=\"1000\"\n",
    ")\n",
    "\n",
    "# Submit the payment to the network and wait to see a response\n",
    "#   Behind the scenes, this fills in fields which can be looked up automatically like the fee.\n",
    "#   It also signs the transaction with wallet1 to prove you own the account you're paying from.\n",
    "payment_response = submit_and_wait(payment_tx, client, wallet1)\n",
    "print(\"Transaction was submitted\")\n",
    "\n",
    "# Create a \"Tx\" request to look up the transaction on the ledger\n",
    "tx_response = client.request(Tx(transaction=payment_response.result[\"hash\"]))\n",
    "\n",
    "# Check whether the transaction was actually validated on ledger\n",
    "print(\"Validated:\", tx_response.result[\"validated\"])\n",
    "\n",
    "# Check balances after 1000 drops (.001 XRP) was sent from wallet1 to wallet2\n",
    "print(\"Balances of wallets after Payment tx:\")\n",
    "print_balances([wallet1, wallet2], client)"
   ]
  },
  {
   "cell_type": "code",
   "execution_count": 4,
   "id": "415b6ae4",
   "metadata": {},
   "outputs": [
    {
     "name": "stdout",
     "output_type": "stream",
     "text": [
      "Balances:\n",
      "rhV4A7VVVtHF9cut88JcXWkRzoFZNaEgaw: 99997990\n",
      "rwFYk8cxtPHaeXwYP1yRqz1kj4rWFGW9h2: 100002000\n"
     ]
    }
   ],
   "source": [
    "current_validated_ledger = get_latest_validated_ledger_sequence(client)\n",
    "\n",
    "# prepare the transaction\n",
    "# the amount is expressed in drops, not XRP\n",
    "# see https://xrpl.org/basic-data-types.html#specifying-currency-amounts\n",
    "my_tx_payment = Payment(\n",
    "    account=wallet1.address,\n",
    "    amount=\"2000\",\n",
    "    destination=wallet2.address,\n",
    "    last_ledger_sequence=current_validated_ledger + 20,\n",
    "    sequence=get_next_valid_seq_number(wallet1.address, client),\n",
    "    fee=\"10\",\n",
    ")\n",
    "# sign the transaction\n",
    "my_tx_payment_signed = sign(my_tx_payment, wallet1)\n",
    "\n",
    "# submit the transaction\n",
    "tx_response = submit_and_wait(my_tx_payment_signed, client)\n",
    "\n",
    "print_balances([wallet1, wallet2], client)"
   ]
  }
 ],
 "metadata": {
  "kernelspec": {
   "display_name": ".venv",
   "language": "python",
   "name": "python3"
  },
  "language_info": {
   "codemirror_mode": {
    "name": "ipython",
    "version": 3
   },
   "file_extension": ".py",
   "mimetype": "text/x-python",
   "name": "python",
   "nbconvert_exporter": "python",
   "pygments_lexer": "ipython3",
   "version": "3.11.7"
  }
 },
 "nbformat": 4,
 "nbformat_minor": 5
}
